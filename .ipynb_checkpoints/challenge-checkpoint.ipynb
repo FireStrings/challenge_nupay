{
 "cells": [
  {
   "cell_type": "code",
   "execution_count": null,
   "metadata": {},
   "outputs": [],
   "source": [
    "#imports\n",
    "from pyspark.sql import SparkSession\n",
    "from pyspark.sql import functions as f\n",
    "import pandas as pd\n",
    "from pyspark.sql.window import Window\n",
    "import os\n",
    "# os.popen(\"echo $JAVA_HOME\").read()\n",
    "os.environ[\"JAVA_HOME\"] = \"/usr/lib/jvm/java-8-openjdk-amd64\""
   ]
  },
  {
   "cell_type": "code",
   "execution_count": null,
   "metadata": {},
   "outputs": [],
   "source": []
  },
  {
   "cell_type": "markdown",
   "metadata": {},
   "source": [
    "## RDD"
   ]
  },
  {
   "cell_type": "code",
   "execution_count": null,
   "metadata": {},
   "outputs": [],
   "source": [
    "#Create spark session\n",
    "spark = SparkSession.builder.appName(\"challenge_nupay\").getOrCreate()"
   ]
  },
  {
   "cell_type": "code",
   "execution_count": null,
   "metadata": {},
   "outputs": [],
   "source": [
    "#Load data as pandas\n",
    "data_acc = pd.read_csv(\"tables/accounts/acc.csv\")\n",
    "data_city = pd.read_csv(\"tables/city/city.csv\")\n",
    "data_country = pd.read_csv(\"tables/country/country.csv\")\n",
    "data_customers = pd.read_csv(\"tables/customers/customers.csv\")\n",
    "data_d_month = pd.read_csv(\"tables/d_month/d_month.csv\")\n",
    "data_d_time = pd.read_csv(\"tables/d_time/d_time.csv\")\n",
    "data_d_week = pd.read_csv(\"tables/d_week/d_week.csv\")\n",
    "data_d_weekday = pd.read_csv(\"tables/d_weekday/d_weekday.csv\")\n",
    "data_d_year = pd.read_csv(\"tables/d_year/d_year.csv\")\n",
    "data_pix_mov = pd.read_csv(\"tables/pix_movements/pix_mov.csv\")\n",
    "data_state = pd.read_csv(\"tables/state/state.csv\")\n",
    "data_tran_in = pd.read_csv(\"tables/transfer_ins/tran_in.csv\")\n",
    "data_tran_out = pd.read_csv(\"tables/transfer_outs/tran_out.csv\")"
   ]
  },
  {
   "cell_type": "code",
   "execution_count": null,
   "metadata": {},
   "outputs": [],
   "source": []
  },
  {
   "cell_type": "code",
   "execution_count": null,
   "metadata": {},
   "outputs": [],
   "source": []
  },
  {
   "cell_type": "code",
   "execution_count": null,
   "metadata": {},
   "outputs": [],
   "source": []
  },
  {
   "cell_type": "code",
   "execution_count": null,
   "metadata": {},
   "outputs": [],
   "source": [
    "#Convert as spark DF\n",
    "df_acc = spark.createDataFrame(data_acc)\n",
    "df_city = spark.createDataFrame(data_city)\n",
    "df_country = spark.createDataFrame(data_country)\n",
    "df_customers = spark.createDataFrame(data_customers)\n",
    "df_d_month = spark.createDataFrame(data_d_month)\n",
    "df_d_time = spark.createDataFrame(data_d_time)\n",
    "df_d_week = spark.createDataFrame(data_d_week)\n",
    "df_d_weekday = spark.createDataFrame(data_d_weekday)\n",
    "df_d_year = spark.createDataFrame(data_d_year)\n",
    "df_pix_mov = spark.createDataFrame(data_pix_mov)\n",
    "df_state = spark.createDataFrame(data_state)\n",
    "df_tran_in = spark.createDataFrame(data_tran_in)\n",
    "df_tran_out = spark.createDataFrame(data_tran_out).withColumnRenamed(\"amount\", \"amount_out\")\n",
    "\n",
    "#Named months\n",
    "df_nome_mes = spark.createDataFrame(\\\n",
    "[(\"1\", \"Jan\"),(\"2\", \"Feb\"), (\"3\", \"Mar\"), (\"4\", \"Apr\"), (\"5\", \"May\"), \\\n",
    " (\"6\", \"Jun\"), (\"7\", \"Jul\"), (\"8\", \"Aug\"), (\"9\", \"Sep\"), (\"10\", \"Oct\"), (\"11\", \"Nov\"), (\"12\", \"Dec\")], [\"action_month\", \"month_name\"])"
   ]
  },
  {
   "cell_type": "code",
   "execution_count": null,
   "metadata": {},
   "outputs": [],
   "source": [
    "df_d_weekday.show()"
   ]
  },
  {
   "cell_type": "markdown",
   "metadata": {},
   "source": [
    "## Non explicit SQL"
   ]
  },
  {
   "cell_type": "code",
   "execution_count": null,
   "metadata": {},
   "outputs": [],
   "source": [
    "#Get only completed transactions\n",
    "df_tran_out = df_tran_out.filter(f.col(\"status\") == \"completed\")\n",
    "df_tran_in = df_tran_in.filter(f.col(\"status\") == \"completed\")\n",
    "df_pix_mov = df_pix_mov.filter(f.col(\"status\") == \"completed\")"
   ]
  },
  {
   "cell_type": "code",
   "execution_count": null,
   "metadata": {},
   "outputs": [],
   "source": [
    "#Get month of transactions (in and out)\n",
    "df_in_time = df_tran_in.join(df_d_time, on=[df_tran_in.transaction_requested_at == df_d_time.time_id])\n",
    "df_out_time = df_tran_out.join(df_d_time, on=[df_tran_out.transaction_requested_at == df_d_time.time_id])\n",
    "\n",
    "#pix session\n",
    "df_pix_mov_in = df_pix_mov.filter(f.col(\"in_or_out\").like('%_in'))\n",
    "df_pix_mov_out = df_pix_mov.filter(f.col(\"in_or_out\").like('%_out'))\n",
    "\n",
    "df_pix_mov_in_time = df_pix_mov_in.join(df_d_time, on=[df_pix_mov_in.pix_requested_at == df_d_time.time_id])\n",
    "df_pix_mov_out_time = df_pix_mov_out.join(df_d_time, on=[df_pix_mov_out.pix_requested_at == df_d_time.time_id])"
   ]
  },
  {
   "cell_type": "code",
   "execution_count": null,
   "metadata": {},
   "outputs": [],
   "source": [
    "df_pix_mov_in_time.select(\"account_id\", \"pix_amount\", \"month_id\").show(4)"
   ]
  },
  {
   "cell_type": "code",
   "execution_count": null,
   "metadata": {},
   "outputs": [],
   "source": [
    "df_in_time.select(\"account_id\", \"amount\", \"month_id\").show(4)"
   ]
  },
  {
   "cell_type": "code",
   "execution_count": null,
   "metadata": {},
   "outputs": [],
   "source": [
    "df_out_time.select(\"account_id\", \"amount_out\", \"month_id\").show(4)"
   ]
  },
  {
   "cell_type": "code",
   "execution_count": null,
   "metadata": {},
   "outputs": [],
   "source": [
    "#Grouped by account and month\n",
    "df_in_time_group = df_in_time.groupby(\"account_id\", \"month_id\").agg(f.sum(\"amount\").alias(\"soma_entrada\"))\n",
    "df_out_time_group = df_out_time.groupby(\"account_id\", \"month_id\").agg(f.sum(\"amount_out\").alias(\"soma_saida\"))\n",
    "\n",
    "\n",
    "#pix session\n",
    "df_pix_mov_in_time_group = df_pix_mov_in_time.groupby(\"account_id\", \"month_id\").agg(f.sum(\"pix_amount\").alias(\"soma_entrada_pix\"))\n",
    "df_pix_mov_out_time_group = df_pix_mov_out_time.groupby(\"account_id\", \"month_id\").agg(f.sum(\"pix_amount\").alias(\"soma_saida_pix\"))\n",
    "\n",
    "#join in and out (pix and nonpix)\n",
    "df_joined_in = df_pix_mov_in_time_group.join(df_in_time_group, on=[\"account_id\", \"month_id\"], how=\"left\").fillna(0)\n",
    "df_joined_out = df_pix_mov_out_time_group.join(df_out_time_group, on=[\"account_id\", \"month_id\"], how=\"left\").fillna(0)\n",
    "\n",
    "\n",
    "#sum in\n",
    "df_joined_in_sum = df_joined_in.withColumn(\"soma_in\", f.col(\"soma_entrada_pix\") + f.col(\"soma_entrada\"))\n",
    "df_joined_out_sum = df_joined_out.withColumn(\"soma_out\", f.col(\"soma_saida_pix\") + f.col(\"soma_saida\"))"
   ]
  },
  {
   "cell_type": "code",
   "execution_count": null,
   "metadata": {},
   "outputs": [],
   "source": [
    "df_joined_in_sum.show(4)"
   ]
  },
  {
   "cell_type": "code",
   "execution_count": null,
   "metadata": {},
   "outputs": [],
   "source": [
    "df_joined_out_sum.show(4)"
   ]
  },
  {
   "cell_type": "code",
   "execution_count": null,
   "metadata": {},
   "outputs": [],
   "source": []
  },
  {
   "cell_type": "code",
   "execution_count": null,
   "metadata": {},
   "outputs": [],
   "source": [
    "#Join IN and OUT\n",
    "df_in_out_grouped = df_joined_in_sum.join(df_joined_out_sum, on=[\"account_id\", \"month_id\"], how=\"left\").\\\n",
    "select(\"account_id\", \"month_id\", \"soma_entrada\", \"soma_saida\").fillna(0)"
   ]
  },
  {
   "cell_type": "code",
   "execution_count": null,
   "metadata": {},
   "outputs": [],
   "source": [
    "df_in_out_grouped.show(4)"
   ]
  },
  {
   "cell_type": "code",
   "execution_count": null,
   "metadata": {},
   "outputs": [],
   "source": [
    "#Balance\n",
    "df_balance = df_in_out_grouped.withColumn(\"saldo\", f.col(\"soma_entrada\")-f.col(\"soma_saida\"))"
   ]
  },
  {
   "cell_type": "code",
   "execution_count": null,
   "metadata": {},
   "outputs": [],
   "source": [
    "df_balance.show(4)"
   ]
  },
  {
   "cell_type": "code",
   "execution_count": null,
   "metadata": {},
   "outputs": [],
   "source": [
    "#Get action month\n",
    "df_balance_action_month = df_balance.join(df_d_month, on=[\"month_id\"]).select(\"account_id\", \"saldo\", \"action_month\")"
   ]
  },
  {
   "cell_type": "code",
   "execution_count": null,
   "metadata": {},
   "outputs": [],
   "source": [
    "#Calculate balance using window \n",
    "window  = Window.partitionBy(\"account_id\").orderBy(\"action_month\")\n",
    "df_balance_action_month_win = df_balance_action_month.withColumn(\"antes\", f.lag(\"saldo\").over(window)) \\\n",
    "    .fillna(0).withColumn(\"saldo_final\", f.col(\"saldo\") + f.col(\"antes\"))\n"
   ]
  },
  {
   "cell_type": "code",
   "execution_count": null,
   "metadata": {},
   "outputs": [],
   "source": [
    "df_balance_action_month_win.show()"
   ]
  },
  {
   "cell_type": "code",
   "execution_count": null,
   "metadata": {},
   "outputs": [],
   "source": [
    "#Get Month name\n",
    "df_final = df_balance_action_month_win.join(df_nome_mes, on=[\"action_month\"])\\\n",
    ".drop(\"action_month\", \"saldo\", \"antes\")\\\n",
    ".withColumnRenamed(\"saldo_final\", \"saldo\")\\\n",
    ".withColumnRenamed(\"month_name\", \"mes\")"
   ]
  },
  {
   "cell_type": "code",
   "execution_count": null,
   "metadata": {},
   "outputs": [],
   "source": [
    "df_final.show()"
   ]
  },
  {
   "cell_type": "code",
   "execution_count": null,
   "metadata": {},
   "outputs": [],
   "source": []
  },
  {
   "cell_type": "code",
   "execution_count": null,
   "metadata": {},
   "outputs": [],
   "source": []
  },
  {
   "cell_type": "markdown",
   "metadata": {},
   "source": [
    "## Explicit SQL"
   ]
  },
  {
   "cell_type": "code",
   "execution_count": null,
   "metadata": {},
   "outputs": [],
   "source": [
    "df_acc.registerTempTable(\"df_acc\")\n",
    "df_city.registerTempTable(\"df_city\")\n",
    "df_country.registerTempTable(\"df_country\")\n",
    "df_customers.registerTempTable(\"df_customers\")\n",
    "df_d_month.registerTempTable(\"df_d_month\")\n",
    "df_d_time.registerTempTable(\"df_d_time\")\n",
    "df_d_week.registerTempTable(\"df_d_week\")\n",
    "df_d_weekday.registerTempTable(\"df_d_weekday\")\n",
    "df_d_year.registerTempTable(\"df_d_year\")\n",
    "df_pix_mov.registerTempTable(\"df_pix_mov\")\n",
    "df_state.registerTempTable(\"df_state\")\n",
    "df_tran_in.registerTempTable(\"df_tran_in\")\n",
    "df_tran_out.registerTempTable(\"df_tran_out\")\n",
    "df_nome_mes.registerTempTable(\"df_nome_mes\")"
   ]
  },
  {
   "cell_type": "code",
   "execution_count": null,
   "metadata": {},
   "outputs": [],
   "source": [
    "df_pix_mov.printSchema()"
   ]
  },
  {
   "cell_type": "code",
   "execution_count": null,
   "metadata": {},
   "outputs": [],
   "source": []
  },
  {
   "cell_type": "code",
   "execution_count": null,
   "metadata": {},
   "outputs": [],
   "source": [
    "df = spark.sql(\"select account_id, saldo_final as saldo, \\\n",
    "                  CASE mes \\\n",
    "                  WHEN '1' THEN 'Jan' \\\n",
    "                  WHEN '2' THEN 'Feb' \\\n",
    "                  WHEN '3' THEN 'Mar' \\\n",
    "                  WHEN '4' THEN 'Apr' \\\n",
    "                  WHEN '5' THEN 'May' \\\n",
    "                  WHEN '6' THEN 'Jun' \\\n",
    "                  WHEN '7' THEN 'Jul' \\\n",
    "                  WHEN '8' THEN 'Aug' \\\n",
    "                  WHEN '9' THEN 'Sep' \\\n",
    "                  WHEN '10' THEN 'Oct' \\\n",
    "                  WHEN '11' THEN 'Nov' \\\n",
    "                  WHEN '12' THEN 'Dec' \\\n",
    "                  END as mes from (select account_id, saldo, \\\n",
    "                  action_month as mes,\\\n",
    "                  coalesce(LAG(saldo,1) OVER (PARTITION BY account_id ORDER BY action_month),0) as antes,\\\n",
    "                  (saldo) + (coalesce(LAG(saldo,1) OVER (PARTITION BY account_id ORDER BY action_month),0)) as saldo_final\\\n",
    "                  from (select entrada.account_id, (coalesce(entrada.soma_entrada, 0) - coalesce(saida.soma_saida, 0)) as saldo, entrada.month_id from (select account_id, \\\n",
    "                  (coalesce(soma_entrada, 0) + coalesce(soma_pix_entrada, 0)) as soma_entrada,\\\n",
    "                  month_id from\\\n",
    "                  (select t_in_time.account_id, coalesce(t_in_time.soma_entrada, 0) as soma_entrada, t_in_time.month_id, pix_in_time.soma_pix_entrada from \\\n",
    "                        (select t_in.account_id, \\\n",
    "                                sum(t_in.amount) as soma_entrada, \\\n",
    "                                d_time.month_id \\\n",
    "                                from df_tran_in t_in \\\n",
    "                                inner join df_d_time d_time on (t_in.transaction_requested_at = d_time.time_id) \\\n",
    "                                where t_in.status = 'completed' group by t_in.account_id, d_time.month_id) t_in_time \\\n",
    "                        left join \\\n",
    "                        (select pix.account_id, \\\n",
    "                                sum(pix.pix_amount) as soma_pix_entrada, \\\n",
    "                                d_time.month_id \\\n",
    "                                from df_pix_mov pix \\\n",
    "                                inner join df_d_time d_time on (pix.pix_requested_at = d_time.time_id) \\\n",
    "                                where pix.status = 'completed' and pix.in_or_out like '%_in' group by pix.account_id, d_time.month_id) pix_in_time \\\n",
    "                        on (t_in_time.account_id = pix_in_time.account_id and t_in_time.month_id = pix_in_time.month_id))) entrada left join (\\\n",
    "         select account_id, \\\n",
    "                  (coalesce(soma_saida, 0) + coalesce(soma_pix_saida, 0)) as soma_saida,\\\n",
    "                  month_id from\\\n",
    "                  (select t_out_time.account_id, coalesce(t_out_time.soma_saida,0) as soma_saida, t_out_time.month_id, pix_out_time.soma_pix_saida from \\\n",
    "                        (select t_out.account_id, \\\n",
    "                                sum(t_out.amount_out) as soma_saida, \\\n",
    "                                d_time.month_id \\\n",
    "                                from df_tran_out t_out \\\n",
    "                                inner join df_d_time d_time on (t_out.transaction_requested_at = d_time.time_id) \\\n",
    "                                where t_out.status = 'completed' group by t_out.account_id, d_time.month_id) t_out_time \\\n",
    "                        left join \\\n",
    "                        (select pix.account_id, \\\n",
    "                                sum(pix.pix_amount) as soma_pix_saida, \\\n",
    "                                d_time.month_id \\\n",
    "                                from df_pix_mov pix \\\n",
    "                                inner join df_d_time d_time on (pix.pix_requested_at = d_time.time_id) \\\n",
    "                                where pix.status = 'completed' and pix.in_or_out like '%_out' group by pix.account_id, d_time.month_id) pix_out_time \\\n",
    "                        on (t_out_time.account_id = pix_out_time.account_id and t_out_time.month_id = pix_out_time.month_id))) saida on (entrada.account_id = \\\n",
    "                        saida.account_id and entrada.month_id = saida.month_id)) saldo inner join df_d_month mes on (saldo.month_id = mes.month_id))\")"
   ]
  },
  {
   "cell_type": "code",
   "execution_count": null,
   "metadata": {},
   "outputs": [],
   "source": [
    "df.filter(f.col(\"account_id\") == \"24030010077126692\").show()"
   ]
  },
  {
   "cell_type": "code",
   "execution_count": null,
   "metadata": {},
   "outputs": [],
   "source": []
  },
  {
   "cell_type": "code",
   "execution_count": null,
   "metadata": {},
   "outputs": [],
   "source": []
  }
 ],
 "metadata": {
  "kernelspec": {
   "display_name": "Python 3 (ipykernel)",
   "language": "python",
   "name": "python3"
  },
  "language_info": {
   "codemirror_mode": {
    "name": "ipython",
    "version": 3
   },
   "file_extension": ".py",
   "mimetype": "text/x-python",
   "name": "python",
   "nbconvert_exporter": "python",
   "pygments_lexer": "ipython3",
   "version": "3.6.9"
  }
 },
 "nbformat": 4,
 "nbformat_minor": 4
}
